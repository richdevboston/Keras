{
 "cells": [
  {
   "cell_type": "code",
   "execution_count": 2,
   "metadata": {},
   "outputs": [
    {
     "name": "stderr",
     "output_type": "stream",
     "text": [
      "/home/zafar/.pyenv/versions/2.7.13/lib/python2.7/site-packages/matplotlib/font_manager.py:273: UserWarning: Matplotlib is building the font cache using fc-list. This may take a moment.\n",
      "  warnings.warn('Matplotlib is building the font cache using fc-list. This may take a moment.')\n"
     ]
    }
   ],
   "source": [
    "%matplotlib inline\n",
    "import matplotlib.pyplot as plt\n",
    "import numpy as np"
   ]
  },
  {
   "cell_type": "code",
   "execution_count": 4,
   "metadata": {},
   "outputs": [
    {
     "name": "stdout",
     "output_type": "stream",
     "text": [
      "Loading data...\n",
      "25000 train sequences\n",
      "25000 test sequences\n"
     ]
    }
   ],
   "source": [
    "from keras.datasets import imdb\n",
    "from keras.preprocessing import sequence\n",
    "\n",
    "max_features = 10000\n",
    "\n",
    "print \"Loading data...\"\n",
    "\n",
    "(input_train, y_train), (input_test, y_test) = imdb.load_data(num_words = max_features)\n",
    "print len(input_train), \"train sequences\"\n",
    "print len(input_test), \"test sequences\""
   ]
  },
  {
   "cell_type": "code",
   "execution_count": 16,
   "metadata": {},
   "outputs": [
    {
     "name": "stdout",
     "output_type": "stream",
     "text": [
      "Pad sequence (samples x time)\n",
      "x_train shape: (25000, 1000)\n",
      "x_test shape: (25000, 1000)\n"
     ]
    }
   ],
   "source": [
    "maxlen = 500\n",
    "# maxlen = 1000\n",
    "print 'Pad sequence (samples x time)'\n",
    "x_train = sequence.pad_sequences(input_train, maxlen=maxlen)\n",
    "x_test = sequence.pad_sequences(input_test, maxlen=maxlen)\n",
    "print \"x_train shape:\", x_train.shape\n",
    "print \"x_test shape:\", x_test.shape"
   ]
  },
  {
   "cell_type": "code",
   "execution_count": 6,
   "metadata": {},
   "outputs": [],
   "source": [
    "from keras.layers import Dense, Embedding, SimpleRNN\n",
    "from keras.models import Sequential"
   ]
  },
  {
   "cell_type": "code",
   "execution_count": 7,
   "metadata": {},
   "outputs": [],
   "source": [
    "model = Sequential()\n",
    "model.add(Embedding(max_features, 32))\n",
    "model.add(SimpleRNN(32))\n",
    "model.add(Dense(1, activation='sigmoid'))\n",
    "\n",
    "model.compile(optimizer='rmsprop', loss='binary_crossentropy', metrics=['acc'])"
   ]
  },
  {
   "cell_type": "code",
   "execution_count": 8,
   "metadata": {},
   "outputs": [
    {
     "name": "stdout",
     "output_type": "stream",
     "text": [
      "Train on 20000 samples, validate on 5000 samples\n",
      "Epoch 1/10\n",
      "20000/20000 [==============================] - 14s 711us/step - loss: 0.6456 - acc: 0.6119 - val_loss: 0.5032 - val_acc: 0.7860\n",
      "Epoch 2/10\n",
      "20000/20000 [==============================] - 14s 683us/step - loss: 0.4188 - acc: 0.8205 - val_loss: 0.4518 - val_acc: 0.8032\n",
      "Epoch 3/10\n",
      "20000/20000 [==============================] - 14s 689us/step - loss: 0.3166 - acc: 0.8722 - val_loss: 0.3758 - val_acc: 0.8338\n",
      "Epoch 4/10\n",
      "20000/20000 [==============================] - 14s 694us/step - loss: 0.2519 - acc: 0.9025 - val_loss: 0.3781 - val_acc: 0.8368\n",
      "Epoch 5/10\n",
      "20000/20000 [==============================] - 14s 691us/step - loss: 0.2081 - acc: 0.9211 - val_loss: 0.4999 - val_acc: 0.8012\n",
      "Epoch 6/10\n",
      "20000/20000 [==============================] - 14s 692us/step - loss: 0.1632 - acc: 0.9405 - val_loss: 0.3858 - val_acc: 0.8540\n",
      "Epoch 7/10\n",
      "20000/20000 [==============================] - 14s 691us/step - loss: 0.1535 - acc: 0.9455 - val_loss: 0.4324 - val_acc: 0.8314\n",
      "Epoch 8/10\n",
      "20000/20000 [==============================] - 14s 691us/step - loss: 0.1001 - acc: 0.9677 - val_loss: 0.4292 - val_acc: 0.8460\n",
      "Epoch 9/10\n",
      "20000/20000 [==============================] - 14s 696us/step - loss: 0.0639 - acc: 0.9797 - val_loss: 0.4996 - val_acc: 0.8366\n",
      "Epoch 10/10\n",
      "20000/20000 [==============================] - 14s 692us/step - loss: 0.0495 - acc: 0.9844 - val_loss: 0.5506 - val_acc: 0.8276\n"
     ]
    }
   ],
   "source": [
    "batch_size = 128\n",
    "history = model.fit(x_train, y_train,\n",
    "                    epochs = 10,\n",
    "                    batch_size = batch_size,\n",
    "                    validation_split = 0.2\n",
    ")"
   ]
  },
  {
   "cell_type": "code",
   "execution_count": 9,
   "metadata": {},
   "outputs": [],
   "source": [
    "acc = history.history['acc']\n",
    "val_acc = history.history['val_acc']\n",
    "loss = history.history['loss']\n",
    "val_loss = history.history['val_loss']\n",
    "epochs = np.arange(1, len(acc) + 1)"
   ]
  },
  {
   "cell_type": "code",
   "execution_count": 10,
   "metadata": {},
   "outputs": [
    {
     "data": {
      "image/png": "[encoded data removed]",
      "text/plain": [
       "<matplotlib.figure.Figure at 0x7feaa6b94bd0>"
      ]
     },
     "metadata": {},
     "output_type": "display_data"
    }
   ],
   "source": [
    "fig, ax = plt.subplots(2, 1, figsize=(5, 5), sharex = True)\n",
    "\n",
    "ax[0].plot(epochs, acc, 'bo', label='Training')\n",
    "ax[0].plot(epochs, val_acc, 'b', label='Validation')\n",
    "ax[0].set_ylabel(\"Accuracy\")\n",
    "ax[0].legend(loc='best')\n",
    "\n",
    "ax[1].plot(epochs, loss, 'bo', label='Training')\n",
    "ax[1].plot(epochs, val_loss, 'b', label='Validation')\n",
    "ax[1].set_ylabel(\"Loss\")\n",
    "ax[1].set_xlabel(\"Epochs\")\n",
    "\n",
    "plt.tight_layout()"
   ]
  },
  {
   "cell_type": "markdown",
   "metadata": {},
   "source": [
    "# LSTM"
   ]
  },
  {
   "cell_type": "code",
   "execution_count": 17,
   "metadata": {},
   "outputs": [],
   "source": [
    "from keras.layers import LSTM\n",
    "\n",
    "model = Sequential()\n",
    "model.add(Embedding(max_features, 32))\n",
    "model.add(LSTM(32))\n",
    "model.add(Dense(1, activation='sigmoid'))\n",
    "model.compile(optimizer='rmsprop', loss='binary_crossentropy', metrics=['acc'])"
   ]
  },
  {
   "cell_type": "code",
   "execution_count": 18,
   "metadata": {
    "scrolled": false
   },
   "outputs": [
    {
     "name": "stdout",
     "output_type": "stream",
     "text": [
      "Train on 20000 samples, validate on 5000 samples\n",
      "Epoch 1/10\n",
      "20000/20000 [==============================] - 120s 6ms/step - loss: 0.4992 - acc: 0.7641 - val_loss: 0.5307 - val_acc: 0.7772\n",
      "Epoch 2/10\n",
      "20000/20000 [==============================] - 120s 6ms/step - loss: 0.2963 - acc: 0.8842 - val_loss: 0.2950 - val_acc: 0.8770\n",
      "Epoch 3/10\n",
      "20000/20000 [==============================] - 120s 6ms/step - loss: 0.2309 - acc: 0.9126 - val_loss: 0.2841 - val_acc: 0.8886\n",
      "Epoch 4/10\n",
      "20000/20000 [==============================] - 120s 6ms/step - loss: 0.2008 - acc: 0.9248 - val_loss: 0.8168 - val_acc: 0.7618\n",
      "Epoch 5/10\n",
      "20000/20000 [==============================] - 120s 6ms/step - loss: 0.1800 - acc: 0.9350 - val_loss: 0.2910 - val_acc: 0.8768\n",
      "Epoch 6/10\n",
      "20000/20000 [==============================] - 120s 6ms/step - loss: 0.1583 - acc: 0.9430 - val_loss: 0.3456 - val_acc: 0.8886\n",
      "Epoch 7/10\n",
      "20000/20000 [==============================] - 120s 6ms/step - loss: 0.1430 - acc: 0.9488 - val_loss: 0.3204 - val_acc: 0.8832\n",
      "Epoch 8/10\n",
      "20000/20000 [==============================] - 120s 6ms/step - loss: 0.1318 - acc: 0.9554 - val_loss: 0.4061 - val_acc: 0.8530\n",
      "Epoch 9/10\n",
      "20000/20000 [==============================] - 120s 6ms/step - loss: 0.1214 - acc: 0.9566 - val_loss: 0.4375 - val_acc: 0.8648\n",
      "Epoch 10/10\n",
      "20000/20000 [==============================] - 120s 6ms/step - loss: 0.1119 - acc: 0.9609 - val_loss: 0.3963 - val_acc: 0.8804\n"
     ]
    }
   ],
   "source": [
    "history = model.fit(x_train, y_train, epochs=10, batch_size=128, validation_split=0.2)"
   ]
  },
  {
   "cell_type": "code",
   "execution_count": 19,
   "metadata": {},
   "outputs": [],
   "source": [
    "acc = history.history['acc']\n",
    "val_acc = history.history['val_acc']\n",
    "loss = history.history['loss']\n",
    "val_loss = history.history['val_loss']\n",
    "epochs = np.arange(1, len(acc) + 1)"
   ]
  },
  {
   "cell_type": "code",
   "execution_count": 20,
   "metadata": {},
   "outputs": [
    {
     "data": {
      "image/png": "[encoded data removed]",
      "text/plain": [
       "<matplotlib.figure.Figure at 0x7fea9cde8b10>"
      ]
     },
     "metadata": {},
     "output_type": "display_data"
    }
   ],
   "source": [
    "fig, ax = plt.subplots(2, 1, figsize=(5, 5), sharex = True)\n",
    "\n",
    "ax[0].plot(epochs, acc, 'bo', label='Training')\n",
    "ax[0].plot(epochs, val_acc, 'b', label='Validation')\n",
    "ax[0].set_ylabel(\"Accuracy\")\n",
    "ax[0].legend(loc='best')\n",
    "\n",
    "ax[1].plot(epochs, loss, 'bo', label='Training')\n",
    "ax[1].plot(epochs, val_loss, 'b', label='Validation')\n",
    "ax[1].set_ylabel(\"Loss\")\n",
    "ax[1].set_xlabel(\"Epochs\")\n",
    "\n",
    "plt.tight_layout()"
   ]
  },
  {
   "cell_type": "code",
   "execution_count": 21,
   "metadata": {},
   "outputs": [
    {
     "name": "stdout",
     "output_type": "stream",
     "text": [
      "25000/25000 [==============================] - 115s 5ms/step\n"
     ]
    },
    {
     "data": {
      "text/plain": [
       "[0.44035520686626434, 0.8646]"
      ]
     },
     "execution_count": 21,
     "metadata": {},
     "output_type": "execute_result"
    }
   ],
   "source": [
    "model.evaluate(x_test, y_test)"
   ]
  },
  {
   "cell_type": "code",
   "execution_count": null,
   "metadata": {},
   "outputs": [],
   "source": []
  }
 ],
 "metadata": {
  "kernelspec": {
   "display_name": "Python 2",
   "language": "python",
   "name": "python2"
  }
 },
 "nbformat": 4,
 "nbformat_minor": 2
}
