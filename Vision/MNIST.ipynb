{
 "cells": [
  {
   "cell_type": "code",
   "execution_count": 1,
   "metadata": {},
   "outputs": [
    {
     "name": "stderr",
     "output_type": "stream",
     "text": [
      "/home/zafar/.pyenv/versions/2.7.13/lib/python2.7/site-packages/h5py/__init__.py:36: FutureWarning: Conversion of the second argument of issubdtype from `float` to `np.floating` is deprecated. In future, it will be treated as `np.float64 == np.dtype(float).type`.\n",
      "  from ._conv import register_converters as _register_converters\n",
      "Using TensorFlow backend.\n"
     ]
    }
   ],
   "source": [
    "%matplotlib inline\n",
    "import numpy as np\n",
    "import matplotlib.pyplot as plt\n",
    "import keras"
   ]
  },
  {
   "cell_type": "code",
   "execution_count": 2,
   "metadata": {},
   "outputs": [],
   "source": [
    "(train_images, train_labels), (test_images, test_labels) = keras.datasets.mnist.load_data()"
   ]
  },
  {
   "cell_type": "code",
   "execution_count": 3,
   "metadata": {},
   "outputs": [
    {
     "data": {
      "text/plain": [
       "(60000, 28, 28)"
      ]
     },
     "execution_count": 3,
     "metadata": {},
     "output_type": "execute_result"
    }
   ],
   "source": [
    "train_images.shape"
   ]
  },
  {
   "cell_type": "code",
   "execution_count": 4,
   "metadata": {},
   "outputs": [],
   "source": [
    "def preprocess(images, normalization=255):\n",
    "    dims = images.shape\n",
    "    if len(dims) < 3:\n",
    "        return images\n",
    "    return images.reshape((dims[0], dims[1]*dims[2])).astype('float32') / normalization\n",
    "train_images = preprocess(train_images)\n",
    "test_images = preprocess(test_images)"
   ]
  },
  {
   "cell_type": "code",
   "execution_count": 5,
   "metadata": {},
   "outputs": [],
   "source": [
    "train_labels = keras.utils.to_categorical(train_labels)\n",
    "test_labels = keras.utils.to_categorical(test_labels)"
   ]
  },
  {
   "cell_type": "code",
   "execution_count": 6,
   "metadata": {},
   "outputs": [],
   "source": [
    "network = keras.models.Sequential()\n",
    "network.add(keras.layers.Dense(512, activation='relu', input_shape=(28*28,)))\n",
    "network.add(keras.layers.Dense(10, activation='tanh'))"
   ]
  },
  {
   "cell_type": "code",
   "execution_count": 7,
   "metadata": {},
   "outputs": [],
   "source": [
    "network.compile(optimizer='rmsprop', loss='mse', metrics=['accuracy'])"
   ]
  },
  {
   "cell_type": "code",
   "execution_count": 8,
   "metadata": {},
   "outputs": [
    {
     "name": "stdout",
     "output_type": "stream",
     "text": [
      "Train on 48000 samples, validate on 12000 samples\n",
      "Epoch 1/20\n",
      "48000/48000 [==============================] - 1s 25us/step - loss: 0.0281 - acc: 0.9095 - val_loss: 0.0118 - val_acc: 0.9593\n",
      "Epoch 2/20\n",
      "48000/48000 [==============================] - 1s 16us/step - loss: 0.0098 - acc: 0.9677 - val_loss: 0.0086 - val_acc: 0.9690\n",
      "Epoch 3/20\n",
      "48000/48000 [==============================] - 1s 16us/step - loss: 0.0074 - acc: 0.9759 - val_loss: 0.0079 - val_acc: 0.9718\n",
      "Epoch 4/20\n",
      "48000/48000 [==============================] - 1s 19us/step - loss: 0.0062 - acc: 0.9810 - val_loss: 0.0071 - val_acc: 0.9736\n",
      "Epoch 5/20\n",
      "48000/48000 [==============================] - 1s 17us/step - loss: 0.0054 - acc: 0.9838 - val_loss: 0.0065 - val_acc: 0.9756\n",
      "Epoch 6/20\n",
      "48000/48000 [==============================] - 1s 16us/step - loss: 0.0048 - acc: 0.9859 - val_loss: 0.0064 - val_acc: 0.9762\n",
      "Epoch 7/20\n",
      "48000/48000 [==============================] - 1s 16us/step - loss: 0.0043 - acc: 0.9875 - val_loss: 0.0063 - val_acc: 0.9768\n",
      "Epoch 8/20\n",
      "48000/48000 [==============================] - 1s 16us/step - loss: 0.0040 - acc: 0.9888 - val_loss: 0.0064 - val_acc: 0.9765\n",
      "Epoch 9/20\n",
      "48000/48000 [==============================] - 1s 16us/step - loss: 0.0036 - acc: 0.9902 - val_loss: 0.0060 - val_acc: 0.9763\n",
      "Epoch 10/20\n",
      "48000/48000 [==============================] - 1s 16us/step - loss: 0.0034 - acc: 0.9912 - val_loss: 0.0060 - val_acc: 0.9778\n",
      "Epoch 11/20\n",
      "48000/48000 [==============================] - 1s 16us/step - loss: 0.0031 - acc: 0.9919 - val_loss: 0.0060 - val_acc: 0.9772\n",
      "Epoch 12/20\n",
      "48000/48000 [==============================] - 1s 16us/step - loss: 0.0029 - acc: 0.9926 - val_loss: 0.0059 - val_acc: 0.9772\n",
      "Epoch 13/20\n",
      "48000/48000 [==============================] - 1s 16us/step - loss: 0.0028 - acc: 0.9933 - val_loss: 0.0059 - val_acc: 0.9773\n",
      "Epoch 14/20\n",
      "48000/48000 [==============================] - 1s 16us/step - loss: 0.0026 - acc: 0.9936 - val_loss: 0.0060 - val_acc: 0.9776\n",
      "Epoch 15/20\n",
      "48000/48000 [==============================] - 1s 18us/step - loss: 0.0025 - acc: 0.9943 - val_loss: 0.0060 - val_acc: 0.9766\n",
      "Epoch 16/20\n",
      "48000/48000 [==============================] - 1s 17us/step - loss: 0.0024 - acc: 0.9944 - val_loss: 0.0059 - val_acc: 0.9770\n",
      "Epoch 17/20\n",
      "48000/48000 [==============================] - 1s 17us/step - loss: 0.0022 - acc: 0.9948 - val_loss: 0.0058 - val_acc: 0.9783\n",
      "Epoch 18/20\n",
      "48000/48000 [==============================] - 1s 19us/step - loss: 0.0021 - acc: 0.9949 - val_loss: 0.0060 - val_acc: 0.9769\n",
      "Epoch 19/20\n",
      "48000/48000 [==============================] - 1s 16us/step - loss: 0.0020 - acc: 0.9953 - val_loss: 0.0059 - val_acc: 0.9777\n",
      "Epoch 20/20\n",
      "48000/48000 [==============================] - 1s 16us/step - loss: 0.0020 - acc: 0.9958 - val_loss: 0.0059 - val_acc: 0.9779\n"
     ]
    }
   ],
   "source": [
    "history = network.fit(train_images, train_labels, epochs=20, batch_size=128, validation_split=0.2)"
   ]
  },
  {
   "cell_type": "code",
   "execution_count": 9,
   "metadata": {},
   "outputs": [
    {
     "name": "stdout",
     "output_type": "stream",
     "text": [
      "10000/10000 [==============================] - 0s 20us/step\n",
      "test_acc: 0.9768\n",
      "test_loss: 0.005966137247346342\n"
     ]
    }
   ],
   "source": [
    "test_loss, test_acc = network.evaluate(test_images, test_labels)\n",
    "print 'test_acc:', test_acc\n",
    "print 'test_loss:', test_loss"
   ]
  },
  {
   "cell_type": "code",
   "execution_count": 10,
   "metadata": {},
   "outputs": [
    {
     "data": {
      "image/png": "[encoded data removed]",
      "text/plain": [
       "<Figure size 360x360 with 2 Axes>"
      ]
     },
     "metadata": {},
     "output_type": "display_data"
    }
   ],
   "source": [
    "epochs = np.arange(1, 21)\n",
    "acc = history.history['acc']\n",
    "loss = history.history['loss']\n",
    "val_acc = history.history['val_acc']\n",
    "val_loss = history.history['val_loss']\n",
    "\n",
    "fig, ax = plt.subplots(2, sharex=True,figsize=(5,5))\n",
    "ax[0].plot(epochs, acc, label=\"Training\")\n",
    "ax[0].plot(epochs, val_acc, label=\"Validation\")\n",
    "ax[0].set_ylabel('Accuracy')\n",
    "ax[0].grid()\n",
    "ax[0].legend()\n",
    "\n",
    "ax[1].plot(epochs, loss, label=\"Training\")\n",
    "ax[1].plot(epochs, val_loss, label=\"Validation\")\n",
    "ax[1].set_ylabel('Loss')\n",
    "ax[1].set_xticks([1, 5, 10, 15, 20])\n",
    "ax[1].grid()\n",
    "ax[1].set_xlabel(\"Epochs\")\n",
    "\n",
    "plt.tight_layout()"
   ]
  },
  {
   "cell_type": "code",
   "execution_count": 11,
   "metadata": {},
   "outputs": [
    {
     "name": "stdout",
     "output_type": "stream",
     "text": [
      "_________________________________________________________________\n",
      "Layer (type)                 Output Shape              Param #   \n",
      "=================================================================\n",
      "dense_1 (Dense)              (None, 512)               401920    \n",
      "_________________________________________________________________\n",
      "dense_2 (Dense)              (None, 10)                5130      \n",
      "=================================================================\n",
      "Total params: 407,050\n",
      "Trainable params: 407,050\n",
      "Non-trainable params: 0\n",
      "_________________________________________________________________\n"
     ]
    }
   ],
   "source": [
    "network.summary()"
   ]
  },
  {
   "cell_type": "code",
   "execution_count": 12,
   "metadata": {},
   "outputs": [
    {
     "data": {
      "image/png": "[encoded data removed]",
      "text/plain": [
       "<Figure size 432x288 with 1 Axes>"
      ]
     },
     "metadata": {},
     "output_type": "display_data"
    }
   ],
   "source": [
    "d_idx = np.random.randint(test_images.shape[0])\n",
    "digit = test_images[d_idx]\n",
    "label_probs = network.predict(np.array([digit]))\n",
    "labels = np.argsort(label_probs)[0]\n",
    "label = labels[-1]\n",
    "confidence = label_probs[0][label]\n",
    "plt.imshow(digit.reshape((28, 28)), cmap=plt.cm.binary)\n",
    "plt.title(\"Label: {} ({:.2})\\nRunner Up: {} ({:.2})\".format(label, confidence, labels[-2], label_probs[0][labels[-2]]));"
   ]
  },
  {
   "cell_type": "code",
   "execution_count": 13,
   "metadata": {},
   "outputs": [
    {
     "name": "stdout",
     "output_type": "stream",
     "text": [
      "3\n",
      "3\n"
     ]
    }
   ],
   "source": [
    "print np.maximum(3, -3)\n",
    "print np.max((3, -3))"
   ]
  }
 ],
 "metadata": {
  "kernelspec": {
   "display_name": "Python 2",
   "language": "python",
   "name": "python2"
  },
  "language_info": {
   "codemirror_mode": {
    "name": "ipython",
    "version": 2
   },
   "file_extension": ".py",
   "mimetype": "text/x-python",
   "name": "python",
   "nbconvert_exporter": "python",
   "pygments_lexer": "ipython2",
   "version": "2.7.13"
  }
 },
 "nbformat": 4,
 "nbformat_minor": 2
}
