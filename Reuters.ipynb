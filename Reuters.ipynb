{
 "cells": [
  {
   "cell_type": "code",
   "execution_count": 1,
   "metadata": {},
   "outputs": [
    {
     "name": "stderr",
     "output_type": "stream",
     "text": [
      "Using TensorFlow backend.\n"
     ]
    }
   ],
   "source": [
    "%matplotlib inline\n",
    "import numpy as np\n",
    "import matplotlib.pyplot as plt\n",
    "import keras"
   ]
  },
  {
   "cell_type": "code",
   "execution_count": 2,
   "metadata": {},
   "outputs": [],
   "source": [
    "(train_data, train_labels), (test_data, test_labels) = keras.datasets.reuters.load_data(num_words=10000)"
   ]
  },
  {
   "cell_type": "code",
   "execution_count": 3,
   "metadata": {},
   "outputs": [
    {
     "name": "stdout",
     "output_type": "stream",
     "text": [
      "Downloading data from https://s3.amazonaws.com/text-datasets/reuters_word_index.json\n",
      "557056/550378 [==============================] - 1s 1us/step\n",
      "565248/550378 [==============================] - 1s 1us/step\n",
      "? generale de banque sa lt ? br and lt heller overseas corp of chicago have each taken 50 pct stakes in ? company sa ? factors generale de banque said in a statement it gave no financial details of the transaction sa ? ? turnover in 1986 was 17 5 billion belgian francs reuter 3\n"
     ]
    }
   ],
   "source": [
    "word_index = keras.datasets.reuters.get_word_index()\n",
    "reverse_word_index = dict([(value, key) for (key, value) in word_index.items()])\n",
    "def decode_review(data):\n",
    "    return ' '.join([reverse_word_index.get(idx - 3, '?') for idx in data])\n",
    "\n",
    "print decode_review(train_data[1])"
   ]
  },
  {
   "cell_type": "code",
   "execution_count": 5,
   "metadata": {},
   "outputs": [],
   "source": [
    "def vectorize_sequences(sequences, dim=10000):\n",
    "    results = np.zeros((len(sequences), dim))\n",
    "    for idx, sequence in enumerate(sequences):\n",
    "        results[idx, sequence] = 1.\n",
    "    return results\n",
    "def to_one_hot(labels, dim=46):\n",
    "    #     results = np.zeros((len(labels), dim))\n",
    "    #     for idx, label in enumerate(labels):\n",
    "    #         results[idx, label] = 1.\n",
    "    #     return results\n",
    "    return keras.utils.to_categorical(labels)\n",
    "\n",
    "X_train = vectorize_sequences(train_data)\n",
    "y_train = to_one_hot(train_labels)\n",
    "X_test = vectorize_sequences(test_data)\n",
    "y_test = to_one_hot(test_labels)"
   ]
  },
  {
   "cell_type": "code",
   "execution_count": 8,
   "metadata": {},
   "outputs": [],
   "source": [
    "X_val = X_train[:1000]\n",
    "y_val = y_train[:1000]\n",
    "partial_x_train = X_train[1000:]\n",
    "partial_y_train = y_train[1000:]"
   ]
  },
  {
   "cell_type": "code",
   "execution_count": 18,
   "metadata": {},
   "outputs": [
    {
     "name": "stdout",
     "output_type": "stream",
     "text": [
      "Train on 7982 samples, validate on 1000 samples\n",
      "Epoch 1/20\n",
      "7982/7982 [==============================] - 1s 63us/step - loss: 2.7162 - acc: 0.4871 - val_loss: 1.7847 - val_acc: 0.6340\n",
      "Epoch 2/20\n",
      "7982/7982 [==============================] - 0s 50us/step - loss: 1.4298 - acc: 0.7058 - val_loss: 1.3033 - val_acc: 0.7150\n",
      "Epoch 3/20\n",
      "7982/7982 [==============================] - 0s 49us/step - loss: 1.0277 - acc: 0.7823 - val_loss: 1.1076 - val_acc: 0.7600\n",
      "Epoch 4/20\n",
      "7982/7982 [==============================] - 0s 49us/step - loss: 0.7986 - acc: 0.8368 - val_loss: 1.0296 - val_acc: 0.7720\n",
      "Epoch 5/20\n",
      "7982/7982 [==============================] - 0s 48us/step - loss: 0.6320 - acc: 0.8691 - val_loss: 0.9507 - val_acc: 0.8110\n",
      "Epoch 6/20\n",
      "7982/7982 [==============================] - 0s 49us/step - loss: 0.5072 - acc: 0.8980 - val_loss: 0.9003 - val_acc: 0.8030\n",
      "Epoch 7/20\n",
      "7982/7982 [==============================] - 0s 49us/step - loss: 0.4088 - acc: 0.9162 - val_loss: 0.8875 - val_acc: 0.8120\n",
      "Epoch 8/20\n",
      "7982/7982 [==============================] - 0s 48us/step - loss: 0.3332 - acc: 0.9315 - val_loss: 0.8991 - val_acc: 0.8050\n",
      "Epoch 9/20\n",
      "7982/7982 [==============================] - 0s 49us/step - loss: 0.2766 - acc: 0.9389 - val_loss: 0.8945 - val_acc: 0.8200\n",
      "Epoch 10/20\n",
      "7982/7982 [==============================] - 0s 50us/step - loss: 0.2282 - acc: 0.9466 - val_loss: 0.9020 - val_acc: 0.8120\n",
      "Epoch 11/20\n",
      "7982/7982 [==============================] - 0s 49us/step - loss: 0.2035 - acc: 0.9495 - val_loss: 0.8917 - val_acc: 0.8210\n",
      "Epoch 12/20\n",
      "7982/7982 [==============================] - 0s 49us/step - loss: 0.1795 - acc: 0.9528 - val_loss: 0.9347 - val_acc: 0.8180\n",
      "Epoch 13/20\n",
      "7982/7982 [==============================] - 0s 51us/step - loss: 0.1621 - acc: 0.9540 - val_loss: 0.9633 - val_acc: 0.8110\n",
      "Epoch 14/20\n",
      "7982/7982 [==============================] - 0s 50us/step - loss: 0.1472 - acc: 0.9550 - val_loss: 0.9681 - val_acc: 0.8120\n",
      "Epoch 15/20\n",
      "7982/7982 [==============================] - 0s 51us/step - loss: 0.1388 - acc: 0.9551 - val_loss: 0.9560 - val_acc: 0.8120\n",
      "Epoch 16/20\n",
      "7982/7982 [==============================] - 0s 49us/step - loss: 0.1296 - acc: 0.9559 - val_loss: 1.0180 - val_acc: 0.8110\n",
      "Epoch 17/20\n",
      "7982/7982 [==============================] - 0s 51us/step - loss: 0.1270 - acc: 0.9562 - val_loss: 1.0727 - val_acc: 0.7960\n",
      "Epoch 18/20\n",
      "7982/7982 [==============================] - 0s 50us/step - loss: 0.1174 - acc: 0.9589 - val_loss: 1.0324 - val_acc: 0.8050\n",
      "Epoch 19/20\n",
      "7982/7982 [==============================] - 0s 49us/step - loss: 0.1165 - acc: 0.9580 - val_loss: 1.1091 - val_acc: 0.7950\n",
      "Epoch 20/20\n",
      "7982/7982 [==============================] - 0s 49us/step - loss: 0.1121 - acc: 0.9577 - val_loss: 1.0341 - val_acc: 0.8050\n"
     ]
    }
   ],
   "source": [
    "model = keras.models.Sequential()\n",
    "model.add(keras.layers.Dense(64, activation='relu', input_shape=(10000,)))\n",
    "model.add(keras.layers.Dense(64, activation='relu'))\n",
    "model.add(keras.layers.Dense(46, activation='softmax'))\n",
    "\n",
    "model.compile(optimizer='rmsprop', loss='categorical_crossentropy', metrics=['accuracy'])\n",
    "history = model.fit(partial_x_train, partial_y_train, epochs=20, batch_size=512, validation_data=(X_val, y_val))"
   ]
  },
  {
   "cell_type": "code",
   "execution_count": 19,
   "metadata": {},
   "outputs": [],
   "source": [
    "history_dict = history.history\n",
    "acc_values = history_dict['acc']\n",
    "val_acc_values = history_dict['val_acc']\n",
    "loss_values = history_dict['loss']\n",
    "val_loss_values = history_dict['val_loss']\n",
    "\n",
    "epochs = range(1, len(acc_values) + 1)"
   ]
  },
  {
   "cell_type": "code",
   "execution_count": 20,
   "metadata": {},
   "outputs": [
    {
     "data": {
      "text/plain": [
       "<matplotlib.legend.Legend at 0x7f399d44b9d0>"
      ]
     },
     "execution_count": 20,
     "metadata": {},
     "output_type": "execute_result"
    },
    {
     "data": {
      "image/png": "[encoded data removed]",
      "text/plain": [
       "<Figure size 432x288 with 1 Axes>"
      ]
     },
     "metadata": {},
     "output_type": "display_data"
    }
   ],
   "source": [
    "plt.plot(epochs, loss_values, 'bo', label='Training loss')\n",
    "plt.plot(epochs, val_loss_values, 'b', label = 'Validation loss')\n",
    "plt.title('Training and validation loss')\n",
    "plt.xlabel('Epochs')\n",
    "plt.ylabel('Loss')\n",
    "plt.legend()"
   ]
  },
  {
   "cell_type": "code",
   "execution_count": 21,
   "metadata": {},
   "outputs": [
    {
     "data": {
      "text/plain": [
       "<matplotlib.legend.Legend at 0x7f399d3cd990>"
      ]
     },
     "execution_count": 21,
     "metadata": {},
     "output_type": "execute_result"
    },
    {
     "data": {
      "image/png": "[encoded data removed]",
      "text/plain": [
       "<Figure size 432x288 with 1 Axes>"
      ]
     },
     "metadata": {},
     "output_type": "display_data"
    }
   ],
   "source": [
    "plt.plot(epochs, acc_values, 'bo', label='Training acc')\n",
    "plt.plot(epochs, val_acc_values, 'b', label = 'Validation acc')\n",
    "plt.title('Training and validation accuracy')\n",
    "plt.xlabel('Epochs')\n",
    "plt.ylabel('Accuracy')\n",
    "plt.legend()"
   ]
  },
  {
   "cell_type": "code",
   "execution_count": 37,
   "metadata": {},
   "outputs": [
    {
     "name": "stdout",
     "output_type": "stream",
     "text": [
      "Train on 7982 samples, validate on 1000 samples\n",
      "Epoch 1/9\n",
      "7982/7982 [==============================] - 1s 88us/step - loss: 2.6266 - acc: 0.5124 - val_loss: 1.7431 - val_acc: 0.6260\n",
      "Epoch 2/9\n",
      "7982/7982 [==============================] - 0s 59us/step - loss: 1.4294 - acc: 0.6963 - val_loss: 1.3206 - val_acc: 0.7170\n",
      "Epoch 3/9\n",
      "7982/7982 [==============================] - 0s 57us/step - loss: 1.0562 - acc: 0.7709 - val_loss: 1.1570 - val_acc: 0.7450\n",
      "Epoch 4/9\n",
      "7982/7982 [==============================] - 0s 56us/step - loss: 0.8307 - acc: 0.8236 - val_loss: 1.0386 - val_acc: 0.7840\n",
      "Epoch 5/9\n",
      "7982/7982 [==============================] - 0s 57us/step - loss: 0.6580 - acc: 0.8628 - val_loss: 0.9685 - val_acc: 0.8030\n",
      "Epoch 6/9\n",
      "7982/7982 [==============================] - 0s 58us/step - loss: 0.5267 - acc: 0.8920 - val_loss: 0.9129 - val_acc: 0.8140\n",
      "Epoch 7/9\n",
      "7982/7982 [==============================] - 0s 59us/step - loss: 0.4181 - acc: 0.9186 - val_loss: 0.8980 - val_acc: 0.8130\n",
      "Epoch 8/9\n",
      "7982/7982 [==============================] - 0s 60us/step - loss: 0.3408 - acc: 0.9307 - val_loss: 0.8885 - val_acc: 0.8160\n",
      "Epoch 9/9\n",
      "7982/7982 [==============================] - 0s 60us/step - loss: 0.2782 - acc: 0.9420 - val_loss: 0.8767 - val_acc: 0.8160\n",
      "2246/2246 [==============================] - 0s 98us/step\n"
     ]
    }
   ],
   "source": [
    "model = keras.models.Sequential()\n",
    "model.add(keras.layers.Dense(64, activation='relu', input_shape=(10000,)))\n",
    "model.add(keras.layers.Dense(64, activation='relu'))\n",
    "model.add(keras.layers.Dense(46, activation='softmax'))\n",
    "\n",
    "model.compile(optimizer='rmsprop', loss='categorical_crossentropy', metrics=['accuracy'])\n",
    "\n",
    "history = model.fit(partial_x_train, partial_y_train, epochs=9, batch_size=512, validation_data=(X_val, y_val))\n",
    "results = model.evaluate(X_test, y_test)"
   ]
  },
  {
   "cell_type": "code",
   "execution_count": 41,
   "metadata": {},
   "outputs": [],
   "source": [
    "history_dict = history.history\n",
    "acc_values = history_dict['acc']\n",
    "val_acc_values = history_dict['val_acc']\n",
    "loss_values = history_dict['loss']\n",
    "val_loss_values = history_dict['val_loss']\n",
    "\n",
    "epochs = range(1, len(acc_values) + 1)"
   ]
  },
  {
   "cell_type": "code",
   "execution_count": 42,
   "metadata": {},
   "outputs": [
    {
     "data": {
      "text/plain": [
       "<matplotlib.legend.Legend at 0x7f3920d7bed0>"
      ]
     },
     "execution_count": 42,
     "metadata": {},
     "output_type": "execute_result"
    },
    {
     "data": {
      "image/png": "[encoded data removed]",
      "text/plain": [
       "<Figure size 432x288 with 1 Axes>"
      ]
     },
     "metadata": {},
     "output_type": "display_data"
    }
   ],
   "source": [
    "plt.plot(epochs, loss_values, 'bo', label='Training loss')\n",
    "plt.plot(epochs, val_loss_values, 'b', label = 'Validation loss')\n",
    "plt.title('Training and validation loss')\n",
    "plt.xlabel('Epochs')\n",
    "plt.ylabel('Loss')\n",
    "plt.legend()"
   ]
  },
  {
   "cell_type": "code",
   "execution_count": 43,
   "metadata": {},
   "outputs": [
    {
     "data": {
      "text/plain": [
       "<matplotlib.legend.Legend at 0x7f3920d01cd0>"
      ]
     },
     "execution_count": 43,
     "metadata": {},
     "output_type": "execute_result"
    },
    {
     "data": {
      "image/png": "[encoded data removed]",
      "text/plain": [
       "<Figure size 432x288 with 1 Axes>"
      ]
     },
     "metadata": {},
     "output_type": "display_data"
    }
   ],
   "source": [
    "plt.plot(epochs, acc_values, 'bo', label='Training acc')\n",
    "plt.plot(epochs, val_acc_values, 'b', label = 'Validation acc')\n",
    "plt.title('Training and validation accuracy')\n",
    "plt.xlabel('Epochs')\n",
    "plt.ylabel('Accuracy')\n",
    "plt.legend()"
   ]
  },
  {
   "cell_type": "code",
   "execution_count": 65,
   "metadata": {},
   "outputs": [
    {
     "name": "stdout",
     "output_type": "stream",
     "text": [
      "2246 2246 423\n",
      "Guessing would get the accuracy of 0.188334817453\n"
     ]
    }
   ],
   "source": [
    "import copy\n",
    "test_labels_copy = copy.copy(test_labels)\n",
    "np.random.shuffle(test_labels_copy)\n",
    "hits_array = np.array(test_labels) == np.array(test_labels_copy)\n",
    "print 'Guessing would get the accuracy of', float(np.sum(hits_array)) / len(test_labels)"
   ]
  },
  {
   "cell_type": "code",
   "execution_count": 77,
   "metadata": {},
   "outputs": [
    {
     "name": "stdout",
     "output_type": "stream",
     "text": [
      "Train on 7982 samples, validate on 1000 samples\n",
      "Epoch 1/20\n",
      "7982/7982 [==============================] - 1s 89us/step - loss: 1.7402 - acc: 0.6397 - val_loss: 1.1953 - val_acc: 0.7300\n",
      "Epoch 2/20\n",
      "7982/7982 [==============================] - 0s 50us/step - loss: 0.9236 - acc: 0.7984 - val_loss: 0.9467 - val_acc: 0.7960\n",
      "Epoch 3/20\n",
      "7982/7982 [==============================] - 0s 50us/step - loss: 0.6020 - acc: 0.8695 - val_loss: 0.8838 - val_acc: 0.8200\n",
      "Epoch 4/20\n",
      "7982/7982 [==============================] - 0s 51us/step - loss: 0.4051 - acc: 0.9162 - val_loss: 0.8658 - val_acc: 0.8180\n",
      "Epoch 5/20\n",
      "7982/7982 [==============================] - 0s 53us/step - loss: 0.2931 - acc: 0.9360 - val_loss: 0.8803 - val_acc: 0.8250\n",
      "Epoch 6/20\n",
      "7982/7982 [==============================] - 0s 53us/step - loss: 0.2312 - acc: 0.9464 - val_loss: 0.8659 - val_acc: 0.8310\n",
      "Epoch 7/20\n",
      "7982/7982 [==============================] - 0s 55us/step - loss: 0.1903 - acc: 0.9523 - val_loss: 0.8851 - val_acc: 0.8160\n",
      "Epoch 8/20\n",
      "7982/7982 [==============================] - 0s 51us/step - loss: 0.1669 - acc: 0.9540 - val_loss: 0.9547 - val_acc: 0.8200\n",
      "Epoch 9/20\n",
      "7982/7982 [==============================] - 0s 54us/step - loss: 0.1587 - acc: 0.9549 - val_loss: 0.9333 - val_acc: 0.8150\n",
      "Epoch 10/20\n",
      "7982/7982 [==============================] - 0s 52us/step - loss: 0.1417 - acc: 0.9557 - val_loss: 1.0216 - val_acc: 0.8020\n",
      "Epoch 11/20\n",
      "7982/7982 [==============================] - 0s 51us/step - loss: 0.1421 - acc: 0.9530 - val_loss: 1.0737 - val_acc: 0.8010\n",
      "Epoch 12/20\n",
      "7982/7982 [==============================] - 0s 53us/step - loss: 0.1303 - acc: 0.9555 - val_loss: 1.0506 - val_acc: 0.8120\n",
      "Epoch 13/20\n",
      "7982/7982 [==============================] - 0s 55us/step - loss: 0.1270 - acc: 0.9553 - val_loss: 1.0811 - val_acc: 0.8060\n",
      "Epoch 14/20\n",
      "7982/7982 [==============================] - 0s 55us/step - loss: 0.1203 - acc: 0.9565 - val_loss: 1.0676 - val_acc: 0.8120\n",
      "Epoch 15/20\n",
      "7982/7982 [==============================] - 0s 57us/step - loss: 0.1131 - acc: 0.9564 - val_loss: 1.0764 - val_acc: 0.8100\n",
      "Epoch 16/20\n",
      "7982/7982 [==============================] - 0s 56us/step - loss: 0.1118 - acc: 0.9570 - val_loss: 1.1266 - val_acc: 0.8120\n",
      "Epoch 17/20\n",
      "7982/7982 [==============================] - 0s 53us/step - loss: 0.1073 - acc: 0.9578 - val_loss: 1.1818 - val_acc: 0.8060\n",
      "Epoch 18/20\n",
      "7982/7982 [==============================] - 0s 52us/step - loss: 0.1048 - acc: 0.9569 - val_loss: 1.1407 - val_acc: 0.8070\n",
      "Epoch 19/20\n",
      "7982/7982 [==============================] - 0s 51us/step - loss: 0.1036 - acc: 0.9567 - val_loss: 1.1845 - val_acc: 0.8020\n",
      "Epoch 20/20\n",
      "7982/7982 [==============================] - 0s 50us/step - loss: 0.0979 - acc: 0.9553 - val_loss: 1.1868 - val_acc: 0.8000\n",
      "2246/2246 [==============================] - 0s 56us/step\n"
     ]
    }
   ],
   "source": [
    "model = keras.models.Sequential()\n",
    "model.add(keras.layers.Dense(64, activation='relu', input_shape=(10000,)))\n",
    "model.add(keras.layers.Dense(128, activation='relu'))\n",
    "model.add(keras.layers.Dense(46, activation='softmax'))\n",
    "\n",
    "model.compile(optimizer='rmsprop', loss='categorical_crossentropy', metrics=['accuracy'])\n",
    "\n",
    "history = model.fit(partial_x_train, partial_y_train, epochs=20, batch_size=128, validation_data=(X_val, y_val))\n",
    "results = model.evaluate(X_test, y_test)"
   ]
  },
  {
   "cell_type": "code",
   "execution_count": 78,
   "metadata": {},
   "outputs": [
    {
     "name": "stdout",
     "output_type": "stream",
     "text": [
      "[1.3909549925439824, 0.7822796082188801]\n"
     ]
    }
   ],
   "source": [
    "history_dict = history.history\n",
    "acc_values = history_dict['acc']\n",
    "val_acc_values = history_dict['val_acc']\n",
    "loss_values = history_dict['loss']\n",
    "val_loss_values = history_dict['val_loss']\n",
    "\n",
    "epochs = range(1, len(acc_values) + 1)\n",
    "print results"
   ]
  },
  {
   "cell_type": "code",
   "execution_count": 79,
   "metadata": {},
   "outputs": [
    {
     "data": {
      "text/plain": [
       "<matplotlib.legend.Legend at 0x7f38f1f1f6d0>"
      ]
     },
     "execution_count": 79,
     "metadata": {},
     "output_type": "execute_result"
    },
    {
     "data": {
      "image/png": "[encoded data removed]",
      "text/plain": [
       "<Figure size 432x288 with 1 Axes>"
      ]
     },
     "metadata": {},
     "output_type": "display_data"
    }
   ],
   "source": [
    "plt.plot(epochs, loss_values, 'bo', label='Training loss')\n",
    "plt.plot(epochs, val_loss_values, 'b', label = 'Validation loss')\n",
    "plt.title('Training and validation loss')\n",
    "plt.xlabel('Epochs')\n",
    "plt.ylabel('Loss')\n",
    "plt.legend()"
   ]
  },
  {
   "cell_type": "code",
   "execution_count": 80,
   "metadata": {},
   "outputs": [
    {
     "data": {
      "text/plain": [
       "<matplotlib.legend.Legend at 0x7f38f1ea0850>"
      ]
     },
     "execution_count": 80,
     "metadata": {},
     "output_type": "execute_result"
    },
    {
     "data": {
      "image/png": "[encoded data removed]",
      "text/plain": [
       "<Figure size 432x288 with 1 Axes>"
      ]
     },
     "metadata": {},
     "output_type": "display_data"
    }
   ],
   "source": [
    "plt.plot(epochs, acc_values, 'bo', label='Training acc')\n",
    "plt.plot(epochs, val_acc_values, 'b', label = 'Validation acc')\n",
    "plt.title('Training and validation accuracy')\n",
    "plt.xlabel('Epochs')\n",
    "plt.ylabel('Accuracy')\n",
    "plt.legend()"
   ]
  },
  {
   "cell_type": "code",
   "execution_count": null,
   "metadata": {},
   "outputs": [],
   "source": []
  }
 ],
 "metadata": {
  "kernelspec": {
   "display_name": "Python 2",
   "language": "python",
   "name": "python2"
  },
  "language_info": {
   "codemirror_mode": {
    "name": "ipython",
    "version": 2
   },
   "file_extension": ".py",
   "mimetype": "text/x-python",
   "name": "python",
   "nbconvert_exporter": "python",
   "pygments_lexer": "ipython2",
   "version": "2.7.13"
  }
 },
 "nbformat": 4,
 "nbformat_minor": 2
}
