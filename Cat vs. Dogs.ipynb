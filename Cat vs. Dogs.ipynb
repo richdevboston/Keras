{
 "cells": [
  {
   "cell_type": "code",
   "execution_count": 1,
   "metadata": {},
   "outputs": [],
   "source": [
    "%matplotlib notebook\n",
    "import matplotlib as mpl\n",
    "import matplotlib.pyplot as plt\n",
    "import numpy as np"
   ]
  },
  {
   "cell_type": "markdown",
   "metadata": {},
   "source": [
    "## Download and extract the datasets\n",
    "\n",
    "* The datasets are located on Kaggle @ [www.kaggle.com/c/dogs-vs-cats/data](https://www.kaggle.com/c/dogs-vs-cats/data).\n",
    "* Download and extract the dataset to `./data/` folder."
   ]
  },
  {
   "cell_type": "code",
   "execution_count": 2,
   "metadata": {},
   "outputs": [
    {
     "name": "stdout",
     "output_type": "stream",
     "text": [
      "[E] Cannot create ./data/dogs-vs-cats_small/, skipping...\n",
      "[E] Cannot create ./data/dogs-vs-cats_small/train, skipping...\n",
      "[E] Cannot create ./data/dogs-vs-cats_small/validation, skipping...\n",
      "[E] Cannot create ./data/dogs-vs-cats_small/test, skipping...\n",
      "[E] Cannot create ./data/dogs-vs-cats_small/train/cats, skipping...\n",
      "[E] Cannot create ./data/dogs-vs-cats_small/train/dogs, skipping...\n",
      "[E] Cannot create ./data/dogs-vs-cats_small/validation/cats, skipping...\n",
      "[E] Cannot create ./data/dogs-vs-cats_small/validation/dogs, skipping...\n",
      "[E] Cannot create ./data/dogs-vs-cats_small/test/cats, skipping...\n",
      "[E] Cannot create ./data/dogs-vs-cats_small/test/dogs, skipping...\n"
     ]
    }
   ],
   "source": [
    "def create_small_dataset(target_dir='./data/dogs-vs-cats_small'):\n",
    "    \"\"\"Creates a smalled Cat/Dog dataset from the original Kaggle one.\"\"\"\n",
    "    import os, shutil\n",
    "    original_dataset_dir = './data/dogs-vs-cats/train'\n",
    "    \n",
    "    def join_and_create(base, append):\n",
    "        \"\"\"Joins the `base` and `append` strings to create a folder path, and creates it.\"\"\"\n",
    "        directory = os.path.join(base, append)\n",
    "        try:\n",
    "            os.mkdir(directory)\n",
    "        except OSError as e:\n",
    "            print(\"[E] Cannot create {}, skipping...\".format(directory))\n",
    "        return directory\n",
    "    def copy_files(f_pattern, f_range, destination):\n",
    "        \"\"\"Copies files from the original dataset directory. f_pattern must have 1 (one) parameter for `format`\"\"\"\n",
    "        # f_names = [f_pattern.format(i) for i in range(f_range[0], f_range[1])]\n",
    "        for fname in (f_pattern.format(i) for i in range(f_range[0], f_range[1])):\n",
    "            src = os.path.join(original_dataset_dir, fname)\n",
    "            dst = os.path.join(destination, fname)\n",
    "            shutil.copyfile(src, dst)\n",
    "    \n",
    "    base_dir = join_and_create(target_dir, '')\n",
    "    \n",
    "    train_dir = join_and_create(base_dir, 'train')\n",
    "    validation_dir = join_and_create(base_dir, 'validation')\n",
    "    test_dir = join_and_create(base_dir, 'test')\n",
    "    \n",
    "    train_cats_dir = join_and_create(train_dir, 'cats')\n",
    "    train_dogs_dir = join_and_create(train_dir, 'dogs')\n",
    "    validation_cats_dir = join_and_create(validation_dir, 'cats')\n",
    "    validation_dogs_dir = join_and_create(validation_dir, 'dogs')\n",
    "    test_cats_dir = join_and_create(test_dir, 'cats')\n",
    "    test_dogs_dir = join_and_create(test_dir, 'dogs')\n",
    "    \n",
    "    copy_files('cat.{}.jpg', (0, 1000), train_cats_dir)\n",
    "    copy_files('cat.{}.jpg', (1000, 1500), validation_cats_dir)\n",
    "    copy_files('cat.{}.jpg', (1500, 2000), test_cats_dir)\n",
    "    copy_files('dog.{}.jpg', (0, 1000), train_dogs_dir)\n",
    "    copy_files('dog.{}.jpg', (1000, 1500), validation_dogs_dir)\n",
    "    copy_files('dog.{}.jpg', (1500, 2000), test_dogs_dir)\n",
    "    \n",
    "    return base_dir\n",
    "    \n",
    "base_dir = create_small_dataset()"
   ]
  },
  {
   "cell_type": "code",
   "execution_count": 3,
   "metadata": {},
   "outputs": [
    {
     "name": "stderr",
     "output_type": "stream",
     "text": [
      "Using TensorFlow backend.\n"
     ]
    }
   ],
   "source": [
    "def make_model():\n",
    "    from keras import layers\n",
    "    from keras import models\n",
    "    from keras import optimizers\n",
    "    model = models.Sequential()\n",
    "    model.add(layers.Conv2D(32, (3, 3), activation='relu', input_shape=(150, 150, 3)))\n",
    "    model.add(layers.MaxPooling2D((2, 2)))\n",
    "    model.add(layers.Conv2D(64, (3, 3), activation='relu'))\n",
    "    model.add(layers.MaxPooling2D((2, 2)))\n",
    "    model.add(layers.Conv2D(128, (3, 3), activation='relu'))\n",
    "    model.add(layers.MaxPooling2D((2, 2)))\n",
    "    model.add(layers.Conv2D(128, (3, 3), activation='relu'))\n",
    "    model.add(layers.MaxPooling2D((2, 2)))\n",
    "    model.add(layers.Flatten())\n",
    "    model.add(layers.Dense(512, activation='relu'))\n",
    "    model.add(layers.Dense(1, activation='sigmoid'))\n",
    "    \n",
    "    model.compile(loss='binary_crossentropy', optimizer=optimizers.RMSprop(lr=1e-4), metrics=['acc'])\n",
    "    return model\n",
    "\n",
    "model = make_model()"
   ]
  },
  {
   "cell_type": "code",
   "execution_count": null,
   "metadata": {},
   "outputs": [],
   "source": []
  }
 ],
 "metadata": {
  "kernelspec": {
   "display_name": "Python 2",
   "language": "python",
   "name": "python2"
  },
  "language_info": {
   "codemirror_mode": {
    "name": "ipython",
    "version": 2
   },
   "file_extension": ".py",
   "mimetype": "text/x-python",
   "name": "python",
   "nbconvert_exporter": "python",
   "pygments_lexer": "ipython2",
   "version": "2.7.13"
  }
 },
 "nbformat": 4,
 "nbformat_minor": 2
}
